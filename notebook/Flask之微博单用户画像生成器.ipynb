{
 "cells": [
  {
   "cell_type": "markdown",
   "metadata": {},
   "source": [
    "Flask是Django之外用Python实现的另一优秀Web框架。相对于功能全面的Django，Flask以自由、灵活著称。在开发一些小应用的时候，使用Django会有“杀鸡用牛刀”的赶脚，而使用Flask就非常合适。本文将使用Flask开发一个微博用户画像的生成器，最后效果如下：\n",
    "![](./static/images/weibo_personas.gif)"
   ]
  },
  {
   "cell_type": "markdown",
   "metadata": {},
   "source": [
    "**开发步骤如下：**\n",
    "\n",
    "1. 抓取微博用户数据；\n",
    "2. 分析数据，生成用户画像；\n",
    "3. 网站实现，美化界面。"
   ]
  },
  {
   "cell_type": "markdown",
   "metadata": {},
   "source": [
    "### 一、微博抓取 ###"
   ]
  },
  {
   "cell_type": "markdown",
   "metadata": {},
   "source": [
    "这里使用移动端的微博(m.weibo.cn),以为例。本教程使用chrome浏览器进行调试。\n",
    "\n",
    "1. 在“发现”中搜索“古力娜扎”，点击进入她的主页；\n",
    "2. 开始分析请求报文, 右击打开调试窗口，选择调试窗口的\"网络(network)\"标签；\n",
    "3. 选择\"Preserve Log\",刷新页面；\n",
    "4. 分析各条请求过程可以发现博文的数据是从https://m.weibo.cn/api/container/getIndex?XXX 类似的地址中得到的。其主要参数为type(固定值)、value(博主ID)、containerid(标识，请求中返回)、page(页码)"
   ]
  },
  {
   "cell_type": "markdown",
   "metadata": {},
   "source": [
    "![](./static/images/weibo.gif)"
   ]
  },
  {
   "cell_type": "markdown",
   "metadata": {},
   "source": [
    "下面开始实现爬取博文的代码。"
   ]
  },
  {
   "cell_type": "code",
   "execution_count": 8,
   "metadata": {
    "collapsed": true
   },
   "outputs": [],
   "source": [
    "# 导入相关库\n",
    "import requests\n",
    "from time import sleep"
   ]
  },
  {
   "cell_type": "code",
   "execution_count": 27,
   "metadata": {
    "collapsed": true
   },
   "outputs": [],
   "source": [
    "# 定义获取博主信息的函数\n",
    "# 参数uid为博主的id\n",
    "\n",
    "def get_user_info(uid):\n",
    "    # 发送请求\n",
    "    result = requests.get('https://m.weibo.cn/api/container/getIndex?type=uid&value={}'\n",
    "                          .format(uid))\n",
    "    json_data = result.json()  # 获取繁华信息中json内容\n",
    "    userinfo = {\n",
    "        'name': json_data['userInfo']['screen_name'],                    # 获取用户头像\n",
    "        'description': json_data['userInfo']['description'],             # 获取用户描述\n",
    "        'follow_count': json_data['userInfo']['follow_count'],           # 获取关注数\n",
    "        'followers_count': json_data['userInfo']['followers_count'],     # 获取粉丝数\n",
    "        'profile_image_url': json_data['userInfo']['profile_image_url'], # 获取头像\n",
    "        'verified_reason': json_data['userInfo']['verified_reason'],     # 认证信息\n",
    "        'containerid': json_data['tabsInfo']['tabs'][1]['containerid']   # 此字段在获取博文中需要\n",
    "    }\n",
    "    \n",
    "    # 获取性别，微博中m表示男性，f表示女性\n",
    "    if json_data['userInfo']['gender'] == 'm':\n",
    "        gender = '男'\n",
    "    elif json_data['userInfo']['gender'] == 'f':\n",
    "        gender = '女'\n",
    "    else:\n",
    "        gender = '未知'\n",
    "    userinfo['gender'] = gender\n",
    "    return userinfo"
   ]
  },
  {
   "cell_type": "code",
   "execution_count": 28,
   "metadata": {
    "collapsed": true
   },
   "outputs": [],
   "source": [
    "# 获取古力娜扎信息\n",
    "userinfo = get_user_info('1350995007')"
   ]
  },
  {
   "cell_type": "code",
   "execution_count": 29,
   "metadata": {},
   "outputs": [
    {
     "data": {
      "text/plain": [
       "{'containerid': '1076031350995007',\n",
       " 'description': '工作请联系：nazhagongzuo@163.com',\n",
       " 'follow_count': 529,\n",
       " 'followers_count': 12042995,\n",
       " 'name': '我是娜扎',\n",
       " 'profile_image_url': 'https://tvax2.sinaimg.cn/crop.0.0.1242.1242.180/50868c3fly8fevjzsp2j4j20yi0yi419.jpg',\n",
       " 'verified_reason': '演员，代表作《择天记》'}"
      ]
     },
     "execution_count": 29,
     "metadata": {},
     "output_type": "execute_result"
    }
   ],
   "source": [
    "# 信息如下\n",
    "userinfo"
   ]
  },
  {
   "cell_type": "code",
   "execution_count": 33,
   "metadata": {
    "collapsed": true
   },
   "outputs": [],
   "source": [
    "# 循环获取所有博文\n",
    "\n",
    "def get_all_post(uid, containerid):\n",
    "    # 从第一页开始\n",
    "    page = 0 \n",
    "    # 这个用来存放博文列表\n",
    "    posts = []\n",
    "    while True:\n",
    "        # 请求博文列表\n",
    "        result = requests.get('https://m.weibo.cn/api/container/getIndex?type=uid&value={}&containerid={}&page={}'\n",
    "                              .format(uid, containerid, page))\n",
    "        json_data = result.json()\n",
    "        \n",
    "        # 当博文获取完毕，退出循环\n",
    "        if not json_data['cards']:\n",
    "            break\n",
    "            \n",
    "        # 循环将新的博文加入列表\n",
    "        for i in json_data['cards']:\n",
    "            posts.append(i['mblog']['text'])\n",
    "            \n",
    "        # 停顿半秒，避免被反爬虫\n",
    "        sleep(0.5)\n",
    "        \n",
    "        # 跳转至下一页\n",
    "        page += 1\n",
    "        \n",
    "    # 返回所有博文\n",
    "    return posts"
   ]
  },
  {
   "cell_type": "code",
   "execution_count": 34,
   "metadata": {
    "collapsed": true
   },
   "outputs": [],
   "source": [
    "posts = get_all_post('1350995007', '1076031350995007')"
   ]
  },
  {
   "cell_type": "code",
   "execution_count": 35,
   "metadata": {},
   "outputs": [
    {
     "data": {
      "text/plain": [
       "1279"
      ]
     },
     "execution_count": 35,
     "metadata": {},
     "output_type": "execute_result"
    }
   ],
   "source": [
    "# 查看博文条数\n",
    "len(posts)"
   ]
  },
  {
   "cell_type": "code",
   "execution_count": 36,
   "metadata": {},
   "outputs": [
    {
     "data": {
      "text/plain": [
       "['哈哈同款buzi不是都送你们了么<span class=\"url-icon\"><img src=\"//h5.sinaimg.cn/m/emoticon/icon/default/d_feijie-c1d5b12e04.png\" style=\"width:1em;height:1em;\" alt=\"[费解]\"></span>一起抗黑🌚//<a href=\\'https://m.weibo.cn/n/楊祐寧YOYANG\\'>@楊祐寧YOYANG</a>:回复<a href=\\'https://m.weibo.cn/n/江疏影\\'>@江疏影</a>:我後面是妳？？？？妳咋那黑啊👼🏿？就叫妳多跟古力娜buzi 學學吧<a href=\\'https://m.weibo.cn/n/我是娜扎\\'>@我是娜扎</a>//<a href=\\'https://m.weibo.cn/n/江疏影\\'>@江疏影</a>:有考虑过后面人的感受吗',\n",
       " '<a class=\\'k\\' href=\\'https://m.weibo.cn/k/择天记?from=feed\\'>#择天记#</a> 谁说容儿暴力？<span class=\"url-icon\"><img src=\"//h5.sinaimg.cn/m/emoticon/icon/default/d_wabishi-f5765407f7.png\" style=\"width:1em;height:1em;\" alt=\"[挖鼻]\"></span>走你～⚡ \\u200b\\u200b\\u200b',\n",
       " '旅行学了点新技能<span class=\"url-icon\"><img src=\"//h5.sinaimg.cn/m/emoticon/icon/default/d_xixi-ce63ce2629.png\" style=\"width:1em;height:1em;\" alt=\"[嘻嘻]\"></span> 不用问了～最后一张我也没看懂<span class=\"url-icon\"><img src=\"//h5.sinaimg.cn/m/emoticon/icon/default/d_heixian-4cbb6a297e.png\" style=\"width:1em;height:1em;\" alt=\"[黑线]\"></span><a href=\\'https://m.weibo.cn/n/湖南卫视花儿与少年\\'>@湖南卫视花儿与少年</a> \\u200b\\u200b\\u200b']"
      ]
     },
     "execution_count": 36,
     "metadata": {},
     "output_type": "execute_result"
    }
   ],
   "source": [
    "# 显示前3个\n",
    "posts[:3]"
   ]
  },
  {
   "cell_type": "markdown",
   "metadata": {},
   "source": [
    "至此，用户的数据已准备就绪，接下来开始生成用户画像。"
   ]
  },
  {
   "cell_type": "markdown",
   "metadata": {
    "collapsed": true
   },
   "source": [
    "### 二、生成用户画像 ###"
   ]
  },
  {
   "cell_type": "markdown",
   "metadata": {},
   "source": [
    "** 1.提取关键词 **"
   ]
  },
  {
   "cell_type": "markdown",
   "metadata": {},
   "source": [
    "这里从博文列表中提取出关键字，分析出博主的发表的热词"
   ]
  },
  {
   "cell_type": "code",
   "execution_count": 95,
   "metadata": {
    "collapsed": true
   },
   "outputs": [],
   "source": [
    "import jieba.analyse\n",
    "from html2text import html2text\n",
    "\n",
    "content = '\\n'.join([html2text(i) for i in posts])\n",
    "\n",
    "# 这里使用jieba的textrank提取出1000个关键词及其比重\n",
    "result = jieba.analyse.textrank(content, topK=1000, withWeight=True)\n",
    "\n",
    "# 生成关键词比重字典\n",
    "keywords = dict()\n",
    "for i in result:\n",
    "    keywords[i[0]] = i[1]"
   ]
  },
  {
   "cell_type": "markdown",
   "metadata": {},
   "source": [
    "** 2.生成词云图 **"
   ]
  },
  {
   "cell_type": "code",
   "execution_count": 130,
   "metadata": {},
   "outputs": [],
   "source": [
    "from PIL import Image, ImageSequence\n",
    "import numpy as np\n",
    "import matplotlib.pyplot as plt\n",
    "from wordcloud import WordCloud, ImageColorGenerator\n",
    "\n",
    "# 初始化图片\n",
    "image = Image.open('./static/images/personas.png')\n",
    "graph = np.array(image)\n",
    "\n",
    "# 生成云图，这里需要注意的是WordCloud默认不支持中文，所以这里需要加载中文黑体字库\n",
    "wc = WordCloud(font_path='./fonts/simhei.ttf',\n",
    "    background_color='white', max_words=300, mask=graph)\n",
    "wc.generate_from_frequencies(keywords)\n",
    "image_color = ImageColorGenerator(graph)"
   ]
  },
  {
   "cell_type": "code",
   "execution_count": 131,
   "metadata": {},
   "outputs": [
    {
     "data": {
      "image/png": "[encoded data removed]",
      "text/plain": [
       "<matplotlib.figure.Figure at 0x10ff022b0>"
      ]
     },
     "metadata": {},
     "output_type": "display_data"
    }
   ],
   "source": [
    "# 显示图片\n",
    "plt.imshow(wc)\n",
    "plt.imshow(wc.recolor(color_func=image_color))\n",
    "plt.axis(\"off\") # 关闭图像坐标系\n",
    "plt.show()"
   ]
  },
  {
   "cell_type": "markdown",
   "metadata": {},
   "source": [
    "# 三、实现Flask应用 ###"
   ]
  },
  {
   "cell_type": "markdown",
   "metadata": {},
   "source": [
    "开发Flask不像Django那么复杂，小应用几个文件就可以完成。步骤如下："
   ]
  },
  {
   "cell_type": "markdown",
   "metadata": {},
   "source": [
    "**1. 安装**"
   ]
  },
  {
   "cell_type": "markdown",
   "metadata": {},
   "source": [
    "使用pip安装flask，命令如下：\n",
    "\n",
    "```bash\n",
    "$ pip install flask\n",
    "```"
   ]
  },
  {
   "cell_type": "markdown",
   "metadata": {},
   "source": [
    "**2.实现应用逻辑**"
   ]
  },
  {
   "cell_type": "markdown",
   "metadata": {},
   "source": [
    "简单来说，一个Flask应用就是一个Flask类，由route函数控制它的url请求。代码实现如下:"
   ]
  },
  {
   "cell_type": "code",
   "execution_count": null,
   "metadata": {
    "collapsed": true
   },
   "outputs": [],
   "source": [
    "# app.py\n",
    "\n",
    "\n",
    "from flask import Flask\n",
    "import requests\n",
    "from PIL import Image, ImageSequence\n",
    "import numpy as np\n",
    "import matplotlib.pyplot as plt\n",
    "from wordcloud import WordCloud, ImageColorGenerator\n",
    "import jieba.analyse\n",
    "from html2text import html2text\n",
    "from time import sleep\n",
    "from collections import OrderedDict\n",
    "from flask import render_template, request\n",
    "\n",
    "# 创建一个Flask应用\n",
    "app = Flask(__name__)\n",
    "\n",
    "\n",
    "##################################\n",
    "# 微博相关函数 #\n",
    "\n",
    "# 定义获取博主信息的函数\n",
    "# 参数uid为博主的id\n",
    "\n",
    "def get_user_info(uid):\n",
    "    # 发送请求\n",
    "    result = requests.get('https://m.weibo.cn/api/container/getIndex?type=uid&value={}'\n",
    "                          .format(uid))\n",
    "    json_data = result.json()  # 获取繁华信息中json内容\n",
    "    # 获取性别，微博中m表示男性，f表示女性\n",
    "    if json_data['userInfo']['gender'] == 'm':\n",
    "        gender = '男'\n",
    "    elif json_data['userInfo']['gender'] == 'f':\n",
    "        gender = '女'\n",
    "    else:\n",
    "        gender = '未知'\n",
    "\n",
    "    userinfo = OrderedDict()\n",
    "    userinfo['昵称'] = json_data['userInfo']['screen_name']           # 获取用户头像\n",
    "    userinfo['性别'] = gender                                         # 性别\n",
    "    userinfo['关注数'] = json_data['userInfo']['follow_count']        # 获取关注数\n",
    "    userinfo['粉丝数'] = json_data['userInfo']['followers_count']     # 获取粉丝数\n",
    "    userinfo['认证信息'] = json_data['userInfo']['verified_reason']   # 获取粉丝数\n",
    "    userinfo['描述'] = json_data['userInfo']['description']           # 获取粉丝数\n",
    "    data = {\n",
    "        'profile_image_url': json_data['userInfo']['profile_image_url'], # 获取头像\n",
    "        'containerid': json_data['tabsInfo']['tabs'][1]['containerid'],  # 此字段在获取博文中需要\n",
    "        'userinfo': '<br>'.join(['{}:{}'.format(k, v) for (k,v) in userinfo.items()])\n",
    "    }\n",
    "\n",
    "    return data\n",
    "\n",
    "\n",
    "# 循环获取所有博文\n",
    "\n",
    "def get_all_post(uid, containerid):\n",
    "    # 从第一页开始\n",
    "    page = 0\n",
    "    # 这个用来存放博文列表\n",
    "    posts = []\n",
    "    while True:\n",
    "        # 请求博文列表\n",
    "        result = requests.get('https://m.weibo.cn/api/container/getIndex?type=uid&value={}&containerid={}&page={}'\n",
    "                              .format(uid, containerid, page))\n",
    "        json_data = result.json()\n",
    "\n",
    "        # 当博文获取完毕，退出循环\n",
    "        if not json_data['cards']:\n",
    "            break\n",
    "\n",
    "        # 循环将新的博文加入列表\n",
    "        for i in json_data['cards']:\n",
    "            posts.append(i['mblog']['text'])\n",
    "\n",
    "        # 停顿半秒，避免被反爬虫\n",
    "        sleep(0.5)\n",
    "\n",
    "        # 跳转至下一页\n",
    "        page += 1\n",
    "\n",
    "    # 返回所有博文\n",
    "    return posts\n",
    "\n",
    "\n",
    "##############################\n",
    "## 云图相关函数\n",
    "\n",
    "# 生成云图\n",
    "def generate_personas(uid, data_list):\n",
    "    content = '<br>'.join([html2text(i) for i in data_list])\n",
    "\n",
    "    # 这里使用jieba的textrank提取出1000个关键词及其比重\n",
    "    result = jieba.analyse.textrank(content, topK=1000, withWeight=True)\n",
    "\n",
    "    # 生成关键词比重字典\n",
    "    keywords = dict()\n",
    "    for i in result:\n",
    "        keywords[i[0]] = i[1]\n",
    "\n",
    "    # 初始化图片\n",
    "    image = Image.open('./static/images/personas.png')\n",
    "    graph = np.array(image)\n",
    "\n",
    "    # 生成云图，这里需要注意的是WordCloud默认不支持中文，所以这里需要加载中文黑体字库\n",
    "    wc = WordCloud(font_path='./static/fonts/simhei.ttf',\n",
    "        background_color='white', max_words=300, mask=graph)\n",
    "    wc.generate_from_frequencies(keywords)\n",
    "    image_color = ImageColorGenerator(graph)\n",
    "    plt.imshow(wc)\n",
    "    plt.imshow(wc.recolor(color_func=image_color))\n",
    "    plt.axis(\"off\") # 关闭图像坐标系\n",
    "    dest_img = './static/personas/{}.png'.format(uid)\n",
    "    plt.savefig(dest_img)\n",
    "    return dest_img\n",
    "\n",
    "\n",
    "#######################################\n",
    "# 定义路由\n",
    "# 指定根路径请求的响应函数\n",
    "@app.route('/', methods=['GET', 'POST'])\n",
    "def index():\n",
    "    # 初始化模版数据为空\n",
    "    userinfo = {}\n",
    "    # 如果是一个Post请求,并且有微博用户id,则获取微博数据并生成相应云图\n",
    "    # request.method的值为请求方法\n",
    "    # request.form既为提交的表单\n",
    "    if request.method == 'POST' and request.form.get('uid'):\n",
    "        uid = request.form.get('uid')\n",
    "        userinfo = get_user_info(uid)\n",
    "        posts = get_all_post(uid, userinfo['containerid'])\n",
    "        dest_img = generate_personas(uid, posts)\n",
    "        userinfo['personas'] = dest_img\n",
    "    return render_template('index.html', **userinfo)\n",
    "\n",
    "\n",
    "if __name__ == '__main__':\n",
    "    app.run()"
   ]
  },
  {
   "cell_type": "markdown",
   "metadata": {},
   "source": [
    "以上就是全部的代码，简单吧？当然，单文件结构只适合小的应用，随着功能和代码量的增加，还是需要把代码分离中不同的文件结构中以便开发和维护。最后，还差一个页面的模版文件。"
   ]
  },
  {
   "cell_type": "markdown",
   "metadata": {},
   "source": [
    "**3.模版开发**"
   ]
  },
  {
   "cell_type": "markdown",
   "metadata": {},
   "source": [
    "模版需要有一个输入的表单和用户信息展示，基于Jinja2模版引擎。熟悉Django模版的应该可以很快上手，流程也和Django类型，在项目根目录下建一个名为templates的文件夹并新建一个名为index.html的文件，代码如下："
   ]
  },
  {
   "cell_type": "markdown",
   "metadata": {},
   "source": [
    "```html\n",
    "<!DOCTYPE html>\n",
    "<html>\n",
    "<head>\n",
    "    <meta charset=\"UTF-8\">\n",
    "    <link rel=\"stylesheet\" type=\"text/css\" href=\"{{ url_for('static', filename='css/style.css') }}\">\n",
    "    <title>Flask之微博单用户画像生成器</title>\n",
    "</head>\n",
    "<body>\n",
    "<!--提交微博id的表单-->\n",
    "<div>\n",
    "    <form action=\"/\" method=\"post\" id=\"search-form\">\n",
    "        <input type=\"text\" name=\"uid\" class=\"search\" placeholder=\"微博用户ID\">\n",
    "        <input type=\"submit\" class=\"submit\" value=\"生成画像\">\n",
    "    </form>\n",
    "</div>\n",
    "<!--下面是用户的展示信息-->\n",
    "<!--使用了模版的if语法,如果有才展示这块内容-->\n",
    "{% if profile_image_url %}\n",
    "<div style=\"text-align:center\">\n",
    "    <div>\n",
    "        <img src=\"{{profile_image_url}}\" alt=\"\">\n",
    "        <div id=\"userinfo\" style=\"padding:10px;line-height:25px\">\n",
    "            {{ userinfo|safe }}\n",
    "        </div>\n",
    "    </div>\n",
    "    <div>\n",
    "        <img id=\"personas\" src=\"{{ personas }}\">\n",
    "    </div>\n",
    "</div>\n",
    "{% endif %}\n",
    "</body>\n",
    "</html>\n",
    "```"
   ]
  },
  {
   "cell_type": "markdown",
   "metadata": {},
   "source": [
    "这样，应用实现完毕，项目结构如下：\n",
    "```\n",
    "$ tree .\n",
    "weibo_personas\n",
    "├── app.py\n",
    "├── static\n",
    "│   ├── css\n",
    "│   │   └── style.css\n",
    "│   ├── fonts\n",
    "│   │   └── simhei.ttf\n",
    "│   └── images\n",
    "│       └── personas.png\n",
    "└── templates\n",
    "    └── index.html\n",
    "```"
   ]
  },
  {
   "cell_type": "markdown",
   "metadata": {},
   "source": [
    "进入项目文件夹，启动项目：\n",
    "\n",
    "```\n",
    "$ python app.py\n",
    "* Running on http://127.0.0.1:5000/ (Press CTRL+C to quit)\n",
    "```\n",
    "\n",
    "然后浏览器打开http://127.0.0.1:5000 地址就可以看到本教程最上面的效果。"
   ]
  },
  {
   "cell_type": "markdown",
   "metadata": {},
   "source": [
    "以上只是一个初步实现，还有很多需要完善的地方。比如，如果发布的博文比较多时，获取时间比较长，可以考虑加个缓存，存储已获取的用户，避免重复请求，前端也可以加个loading效果。本教程展示的只是单用户，后面也可以批量获取用户信息，生成一个群体的用户画像。"
   ]
  },
  {
   "cell_type": "markdown",
   "metadata": {},
   "source": [
    "最后祝大家端午节快乐^_^"
   ]
  },
  {
   "cell_type": "code",
   "execution_count": null,
   "metadata": {
    "collapsed": true
   },
   "outputs": [],
   "source": []
  }
 ],
 "metadata": {
  "kernelspec": {
   "display_name": "Python 3",
   "language": "python",
   "name": "python3"
  },
  "language_info": {
   "codemirror_mode": {
    "name": "ipython",
    "version": 3
   },
   "file_extension": ".py",
   "mimetype": "text/x-python",
   "name": "python",
   "nbconvert_exporter": "python",
   "pygments_lexer": "ipython3",
   "version": "3.5.1"
  }
 },
 "nbformat": 4,
 "nbformat_minor": 2
}
