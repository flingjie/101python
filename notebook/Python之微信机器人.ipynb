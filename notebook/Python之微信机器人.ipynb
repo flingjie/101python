{
 "cells": [
  {
   "cell_type": "markdown",
   "metadata": {},
   "source": [
    "### 本教程适合于有一定编程经验的同学，使用Python3，在Jupyter进行调试开发。"
   ]
  },
  {
   "cell_type": "markdown",
   "metadata": {},
   "source": [
    "最近聊天机器人很火，要想开发从头开发一个工作量比较大，这里使用第三方库ChatBot和wxpy进行开发。这里简单感受下聊天机器人的魅力，如要深入研究，可以从这些的源代码入手进行学习。"
   ]
  },
  {
   "cell_type": "markdown",
   "metadata": {},
   "source": [
    "* ChatBot\n",
    "\n",
    "  ChatterBot是一个基于机器学习的聊天机器人引擎,可以从已有的对话中学习。它的原理是每当用户输入一句话，机器人将存下它，同时也存下答复的句子。 当获取获取用户输入后，它从已知句子中匹配出与用户输入最相近的句子，找到最有可能的回复。随着机器人接受的输入的增加，它会统计各个回答的频率,以此作为回答的一句。\n",
    "  \n",
    "  \n",
    "* wxpy\n",
    "\n",
    "  wxpy是根据网页版微信API实现的Python库，方便用Python进行微信交互操作"
   ]
  },
  {
   "cell_type": "markdown",
   "metadata": {},
   "source": [
    "**1. 初始化机器人**"
   ]
  },
  {
   "cell_type": "code",
   "execution_count": 81,
   "metadata": {},
   "outputs": [
    {
     "name": "stderr",
     "output_type": "stream",
     "text": [
      "/Users/guoyuxia/workspace/venv/xuepython/lib/python3.5/site-packages/chatterbot/storage/jsonfile.py:26: UnsuitableForProductionWarning: The JsonFileStorageAdapter is not recommended for production environments.\n",
      "  self.UnsuitableForProductionWarning\n"
     ]
    }
   ],
   "source": [
    "from chatterbot import ChatBot\n",
    "from chatterbot.trainers import ChatterBotCorpusTrainer\n",
    "\n",
    "# 初始化机器人\n",
    "chatbot = ChatBot(\"deepThought\")\n",
    "chatbot.set_trainer(ChatterBotCorpusTrainer)\n",
    "\n",
    "# 这里先使用该库现成的中文语料库训练\n",
    "chatbot.train(\"chatterbot.corpus.chinese\")  \n"
   ]
  },
  {
   "cell_type": "code",
   "execution_count": 82,
   "metadata": {},
   "outputs": [
    {
     "name": "stdout",
     "output_type": "stream",
     "text": [
      "谢谢你。你也一样.\n"
     ]
    }
   ],
   "source": [
    "# 这里进行简单测试\n",
    "print(chatbot.get_response(\"很高兴认识你\"))"
   ]
  },
  {
   "cell_type": "code",
   "execution_count": 83,
   "metadata": {},
   "outputs": [
    {
     "name": "stdout",
     "output_type": "stream",
     "text": [
      "一天和同学出去吃饭，买单的时候想跟服务员开下玩笑。“哎呀，今天没带钱出来埃”“你可以刷卡。”“可是我也没带卡出来的埃”“那你可以刷碗“\n"
     ]
    }
   ],
   "source": [
    "# 也可以自定义训练\n",
    "# 比如当前输入”讲个笑话“\n",
    "print(chatbot.get_response('讲个笑话'))\n",
    "# 优美胜于丑陋."
   ]
  },
  {
   "cell_type": "code",
   "execution_count": 84,
   "metadata": {
    "collapsed": true
   },
   "outputs": [],
   "source": [
    "from chatterbot.trainers import ListTrainer\n",
    "\n",
    "# 使用ListTrainer进行自定义训练，输入内容为一个列表\n",
    "chatbot.set_trainer(ListTrainer)\n",
    "chatbot.train([\n",
    "    \"讲个笑话\",\n",
    "    \"一天和同学出去吃饭，买单的时候想跟服务员开下玩笑。“哎呀，今天没带钱出来埃”“你可以刷卡。”“可是我也没带卡出来的埃”“那你可以刷碗“\",\n",
    "])"
   ]
  },
  {
   "cell_type": "code",
   "execution_count": 85,
   "metadata": {},
   "outputs": [
    {
     "name": "stdout",
     "output_type": "stream",
     "text": [
      "一天和同学出去吃饭，买单的时候想跟服务员开下玩笑。“哎呀，今天没带钱出来埃”“你可以刷卡。”“可是我也没带卡出来的埃”“那你可以刷碗“\n"
     ]
    }
   ],
   "source": [
    "print(chatbot.get_response(\"讲个笑话\"))"
   ]
  },
  {
   "cell_type": "markdown",
   "metadata": {},
   "source": [
    "这里只是简单做个展示，如要丰富机器人的对话，可以从微博、微信、QQ上抓取大量的聊天记录进行优化训练。"
   ]
  },
  {
   "cell_type": "markdown",
   "metadata": {},
   "source": [
    "**2.将机器人接入微信**"
   ]
  },
  {
   "cell_type": "code",
   "execution_count": 86,
   "metadata": {},
   "outputs": [
    {
     "name": "stderr",
     "output_type": "stream",
     "text": [
      "Getting uuid of QR code.\n",
      "Downloading QR code.\n",
      "Please scan the QR code to log in.\n",
      "Please press confirm on your phone.\n",
      "Loading the contact, this may take a little while.\n",
      "Login successfully as 愛非愛\n"
     ]
    }
   ],
   "source": [
    "from wxpy import *\n",
    "\n",
    "# 初始化机器人，这里会生成一张二维码，用微信扫码继续登陆\n",
    "bot = Bot()"
   ]
  },
  {
   "cell_type": "code",
   "execution_count": 87,
   "metadata": {
    "collapsed": true
   },
   "outputs": [],
   "source": [
    "# 获取好友列表，这里随意使用一个好友进行测试\n",
    "bot.friends()\n",
    "friend = bot.friends()[1]"
   ]
  },
  {
   "cell_type": "code",
   "execution_count": 89,
   "metadata": {},
   "outputs": [
    {
     "data": {
      "text/plain": [
       "↪ Walker : hi (Text)"
      ]
     },
     "execution_count": 89,
     "metadata": {},
     "output_type": "execute_result"
    }
   ],
   "source": [
    "# 向好友发送消息\n",
    "friend.send('hi')"
   ]
  },
  {
   "cell_type": "code",
   "execution_count": 90,
   "metadata": {
    "collapsed": true
   },
   "outputs": [],
   "source": [
    "# 使用机器人进行自动回复\n",
    "@bot.register(friend)\n",
    "def reply_my_friend(msg):\n",
    "    return chatbot.get_response(msg.text).text"
   ]
  },
  {
   "cell_type": "markdown",
   "metadata": {
    "collapsed": true
   },
   "source": [
    "效果图如下：\n",
    "![](./static/images/bot.jpg)"
   ]
  },
  {
   "cell_type": "code",
   "execution_count": null,
   "metadata": {
    "collapsed": true
   },
   "outputs": [],
   "source": []
  }
 ],
 "metadata": {
  "kernelspec": {
   "display_name": "Python 3",
   "language": "python",
   "name": "python3"
  },
  "language_info": {
   "codemirror_mode": {
    "name": "ipython",
    "version": 3
   },
   "file_extension": ".py",
   "mimetype": "text/x-python",
   "name": "python",
   "nbconvert_exporter": "python",
   "pygments_lexer": "ipython3",
   "version": "3.5.1"
  }
 },
 "nbformat": 4,
 "nbformat_minor": 2
}
