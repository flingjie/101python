{
 "cells": [
  {
   "cell_type": "markdown",
   "metadata": {},
   "source": [
    "在上一篇《Python之区块链入门》中讲述了区块链的基础知识，并用Python实现了区块和区块链的结构。在本篇中，将基于上面的内容实现一个简单的记账本功能。"
   ]
  },
  {
   "cell_type": "markdown",
   "metadata": {},
   "source": [
    "记账本的功能如下：\n",
    "\n",
    "1. 实现基本的收支记录；\n",
    "2. 计算当前余额；\n",
    "3. 对收支情况做简单统计分析。"
   ]
  },
  {
   "cell_type": "markdown",
   "metadata": {},
   "source": [
    "账单记录的格式如下：\n",
    "\n",
    "    日期|描述|金额\n",
    "\n",
    "下面开始一步步实现上述功能。\n"
   ]
  },
  {
   "cell_type": "markdown",
   "metadata": {},
   "source": [
    "### 一、定义收支记录\n",
    "\n",
    "在上一篇中区块的内容是简单的文本，这里实现将基于Block实现一个支持收支记录格式的类，代码如下："
   ]
  },
  {
   "cell_type": "code",
   "execution_count": 36,
   "metadata": {
    "collapsed": true
   },
   "outputs": [],
   "source": [
    "from datetime import datetime\n",
    "\n",
    "class AccountBill(Block):\n",
    "    \n",
    "    def __init__(self, content, amount):\n",
    "        t = datetime.now().strftime('%Y-%m-%d %H:%M:%S')\n",
    "        data = \"{}|{}|{}\".format(t, content, amount)\n",
    "        return super(AccountBill, self).__init__(data)\n",
    "    \n",
    "    '''\n",
    "        获取金额数量\n",
    "    '''\n",
    "    def get_amount(self):\n",
    "        amount = 0\n",
    "        if self.data:\n",
    "            amount = int(self.data.split('|')[2])\n",
    "        return amount\n",
    "    \n",
    "    def get_content(self):\n",
    "        content = ''\n",
    "        if self.data:\n",
    "            content = self.data.split('|')[1]\n",
    "        return content\n",
    "\n",
    "    def __repr__(self):\n",
    "        return 'Bill: {}>'.format(\n",
    "            self.data\n",
    "        )"
   ]
  },
  {
   "cell_type": "code",
   "execution_count": 37,
   "metadata": {},
   "outputs": [
    {
     "data": {
      "text/plain": [
       "Bill: 2017-07-30 10:46:23|测试|100>"
      ]
     },
     "execution_count": 37,
     "metadata": {},
     "output_type": "execute_result"
    }
   ],
   "source": [
    "# 创建记录\n",
    "\n",
    "AccountBill('测试', 100)"
   ]
  },
  {
   "cell_type": "markdown",
   "metadata": {},
   "source": [
    "### 二、计算当前余额"
   ]
  },
  {
   "cell_type": "markdown",
   "metadata": {},
   "source": [
    "上面已经定义了收支记录，接下来在BlockChain基础上定义一个方法用来计算当前余额。代码如下："
   ]
  },
  {
   "cell_type": "code",
   "execution_count": 91,
   "metadata": {
    "collapsed": true
   },
   "outputs": [],
   "source": [
    "from collections import OrderedDict\n",
    "\n",
    "class AccountBook(BlockChain):\n",
    "    \n",
    "    def __init__(self):\n",
    "        self.head = None   # 指向最新的一个区块\n",
    "        self.blocks = OrderedDict()   # 包含所有区块的一个字典\n",
    "\n",
    "    '''\n",
    "        添加记录\n",
    "    '''\n",
    "    def add_block(self, new_bill):\n",
    "        new_bill.mine()\n",
    "        super(AccountBook, self).add_block(new_bill)\n",
    "        \n",
    "    '''\n",
    "        计算当前余额\n",
    "    '''\n",
    "    def balance(self):\n",
    "        balance = 0\n",
    "        if self.blocks:\n",
    "            for k, v in self.blocks.items():\n",
    "                balance += v['block'].get_amount()\n",
    "        return balance\n",
    "\n",
    "    \n",
    "    def __repr__(self):\n",
    "        num_existing_blocks = len(self.blocks)\n",
    "        return 'AccountBook<{} Bills, Head: {}>'.format(\n",
    "            num_existing_blocks,\n",
    "            self.head.identifier if self.head else None\n",
    "        )"
   ]
  },
  {
   "cell_type": "code",
   "execution_count": 92,
   "metadata": {
    "collapsed": true
   },
   "outputs": [],
   "source": [
    "# 创建几笔记录\n",
    "\n",
    "book = AccountBook()\n",
    "\n",
    "b1 = AccountBill('工资', 10000)\n",
    "book.add_block(b1)\n",
    "\n",
    "b2 = AccountBill('房租', -2500)\n",
    "book.add_block(b2)\n",
    "\n",
    "b3 = AccountBill('衣服', -1500)\n",
    "book.add_block(b3)\n",
    "\n",
    "b4 = AccountBill('吃饭', -1000)\n",
    "book.add_block(b4)\n",
    "\n",
    "b5 = AccountBill('股票收入', 200)\n",
    "book.add_block(b5)\n",
    "\n",
    "b6 = AccountBill('看电影', -200)\n",
    "book.add_block(b6)\n",
    "\n",
    "b7 = AccountBill('购物', -1000)\n",
    "book.add_block(b7)\n",
    "\n",
    "b8 = AccountBill('水电费等', -100)\n",
    "book.add_block(b8)"
   ]
  },
  {
   "cell_type": "code",
   "execution_count": 93,
   "metadata": {},
   "outputs": [
    {
     "data": {
      "text/plain": [
       "3900"
      ]
     },
     "execution_count": 93,
     "metadata": {},
     "output_type": "execute_result"
    }
   ],
   "source": [
    "# 计算当前余额\n",
    "\n",
    "book.balance()"
   ]
  },
  {
   "cell_type": "markdown",
   "metadata": {},
   "source": [
    "### 三、简单分析收支记录"
   ]
  },
  {
   "cell_type": "code",
   "execution_count": 76,
   "metadata": {},
   "outputs": [
    {
     "name": "stdout",
     "output_type": "stream",
     "text": [
      "2017-07-30 19:57:57|工资|10000\n",
      "2017-07-30 19:57:57|房租|-2500\n",
      "2017-07-30 19:57:57|衣服|-1500\n",
      "2017-07-30 19:57:58|吃饭|-1000\n",
      "2017-07-30 19:57:58|股票收入|200\n",
      "2017-07-30 19:57:58|看电影|-200\n",
      "2017-07-30 19:57:59|购物|-1000\n",
      "2017-07-30 19:57:59|水电费等|-100\n"
     ]
    }
   ],
   "source": [
    "# 打印收支记录\n",
    "\n",
    "for k,v in book.blocks.items():\n",
    "    print(v['block'].data)"
   ]
  },
  {
   "cell_type": "code",
   "execution_count": 50,
   "metadata": {},
   "outputs": [
    {
     "data": {
      "image/png": "[encoded data removed]",
      "text/plain": [
       "<matplotlib.figure.Figure at 0x10d364b70>"
      ]
     },
     "metadata": {},
     "output_type": "display_data"
    }
   ],
   "source": [
    "# 使用柱状图展示收支记录\n",
    "\n",
    "%matplotlib inline\n",
    "\n",
    "import matplotlib\n",
    "import numpy as np\n",
    "import matplotlib.pyplot as plt\n",
    "plt.rcParams['font.sans-serif']=['SimHei'] #用来正常显示中文标签\n",
    "\n",
    "\n",
    "# 初始化数据\n",
    "x_data = []  # 金额\n",
    "y_data = []  # 描述\n",
    "colors = []  # 颜色\n",
    "\n",
    "for k,v in book.blocks.items():\n",
    "    bill = v['block']\n",
    "    y_data.append(bill.get_content())\n",
    "    amount = bill.get_amount()\n",
    "    if amount > 0:\n",
    "        x_data.append(amount)\n",
    "        colors.append('blue')\n",
    "    else:\n",
    "        x_data.append(-amount)\n",
    "        colors.append('red')\n",
    "\n",
    "        \n",
    "y_pos = np.arange(len(y_data))\n",
    " \n",
    "plt.bar(y_pos, x_data, align='center', alpha=0.5, color=colors)\n",
    "plt.xticks(y_pos, y_data)\n",
    "plt.ylabel('金额')\n",
    "plt.title('收支记录')\n",
    " \n",
    "plt.show()"
   ]
  },
  {
   "cell_type": "code",
   "execution_count": 55,
   "metadata": {},
   "outputs": [
    {
     "data": {
      "image/png": "[encoded data removed]",
      "text/plain": [
       "<matplotlib.figure.Figure at 0x10d79b8d0>"
      ]
     },
     "metadata": {},
     "output_type": "display_data"
    }
   ],
   "source": [
    "# 简单分析支出组成\n",
    "\n",
    "labels = []\n",
    "amounts = []\n",
    "colors = ['gold', 'yellowgreen', 'lightcoral', 'lightskyblue'] # 用不同颜色显示\n",
    " \n",
    "for k,v in book.blocks.items():\n",
    "    bill = v['block']  \n",
    "    amount = bill.get_amount()\n",
    "    \n",
    "    # 只展示支出\n",
    "    if amount < 0:\n",
    "        labels.append(bill.get_content())\n",
    "        amounts.append(-amount)\n",
    "        \n",
    "\n",
    "plt.pie(amounts, labels=labels, colors=colors, shadow=True, autopct='%1.1f%%')\n",
    "plt.axis('equal')\n",
    "plt.show()"
   ]
  }
 ],
 "metadata": {
  "kernelspec": {
   "display_name": "Python 3",
   "language": "python",
   "name": "python3"
  },
  "language_info": {
   "codemirror_mode": {
    "name": "ipython",
    "version": 3
   },
   "file_extension": ".py",
   "mimetype": "text/x-python",
   "name": "python",
   "nbconvert_exporter": "python",
   "pygments_lexer": "ipython3",
   "version": "3.5.1"
  }
 },
 "nbformat": 4,
 "nbformat_minor": 2
}
